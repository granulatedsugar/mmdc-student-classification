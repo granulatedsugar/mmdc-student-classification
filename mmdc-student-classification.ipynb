{
 "cells": [
  {
   "attachments": {},
   "cell_type": "markdown",
   "metadata": {},
   "source": [
    "# Students’ Adaptability Level Prediction in an Online Class\n",
    "\n",
    "This notebook looks into using various Python-based machine learning and\n",
    "data science libraries in an attempt to build a machine learning model\n",
    "capable of predicting whether or not a student is capable of adapting to\n",
    "an online class  based on the data provided."
   ]
  },
  {
   "attachments": {},
   "cell_type": "markdown",
   "metadata": {},
   "source": [
    "The following approach will be used:\n",
    "1. Problem definition\n",
    "2. Data\n",
    "3. Evaluation\n",
    "4. Features\n",
    "5. Modelling\n",
    "6. Experimentation"
   ]
  },
  {
   "attachments": {},
   "cell_type": "markdown",
   "metadata": {},
   "source": [
    "#### 1. Problem\n",
    "\n",
    ">Describe a person who would most likely be successful in adapting to an online distance class. [general audience]\n",
    "\n",
    ">From which age range must a school, college, or university start offering an online distance class that ensures moderate to high adaptability level? [admissions and other administrative offices in learning institutions]\n",
    "\n",
    ">What are the strongest indicators of having a moderate to high adaptability level in an online school? [students who would like to be in an online school community]\n",
    "\n",
    ">If you were a learning institution that aims to maintain a high adaptability level in an online environment, what top 5 requirements would you have before admitting student applicants? [learning institutions] \n",
    "\n",
    ">Who would most likely be successful in an online community that is worth giving a full scholarship coverage for the entire stay in basic education and/or higher education? [government and non-government organizations offering limited slots for scholarship grants]"
   ]
  },
  {
   "attachments": {},
   "cell_type": "markdown",
   "metadata": {},
   "source": [
    "#### 2. Data\n",
    "\n",
    ">The dataset is provided by the MO-IT100 - Introduction to Computing from the MMDC MyCamu's Repository. Source: https://docs.google.com/spreadsheets/d/1b0KBuWPZjwJNibOcyg5NoS4mkxUay0wBDeZAm-LHPsg/edit#gid=1140775492\n",
    "\n",
    ">The original dataset came from Students' Adaptability Level Prediction in Online Education using Machine Learning Approaches or DOI: 10.1109/ICCCNT51525.2021.9579741."
   ]
  },
  {
   "attachments": {},
   "cell_type": "markdown",
   "metadata": {},
   "source": [
    "#### 3. Evaluation\n",
    "\n",
    "> If we can reach 95% accuracy at predicting whether or not a student is able to adapt to online schooling during the proof of concept, we'll pursue the project.\n"
   ]
  },
  {
   "attachments": {},
   "cell_type": "markdown",
   "metadata": {},
   "source": [
    "#### 4. Features\n",
    "\n",
    ">Features are different parts of the data. Provided below is a **data dictionary** will help through the process."
   ]
  },
  {
   "attachments": {},
   "cell_type": "markdown",
   "metadata": {},
   "source": [
    "### Student Adaptability Level Data Dictionary\n",
    "\n",
    "The following are the features will be used to predict our target variable (heart disease or no heart disease).\n",
    "\n",
    "1. `Gender` - (Boy = 1; Girl = 0) \n",
    "2. `Age` - Age in years \n",
    "    * 1-5 = 0\n",
    "    * 6-10 = 1\n",
    "    * 11-15 = 2\n",
    "    * 16-20 = 3\n",
    "    * 26-30 = 4\n",
    "2. `Education Level` - Current level of the student\n",
    "    * School = 0\n",
    "    * College = 1\n",
    "    * University = 2\n",
    "3. `Institution Type` - (Non Government = 0; Government = 1)\n",
    "4. `IT Student` - (No = 0; Yes = 1)\n",
    "5. `Location` - Not sure what this means (No = 0; Yes = 1) \n",
    "6. `Load-shedding` - (Low = 0; High = 1)\n",
    "7. `Financial Condition` - the financial status of a student(No Range Provided)\n",
    "    * Poor = 0\n",
    "    * Mid = 1\n",
    "    * Rich = 2\n",
    "8. `Internet Type` - Connectivity to the network used by the student\n",
    "    * Mobile Data = 0\n",
    "    * Wifi = 1\n",
    "9. `Network Type` - Type of generation network\n",
    "    * 3G - Third Generation Network = 0\n",
    "    * 4G - Fourth Generation Network = 1\n",
    "10. `Class Duration` - the duration of the student class \n",
    "    * 0 = 0\n",
    "    * 1-3 = 1\n",
    "11. `Self Lms` - (No = 0; Yes = 1)\n",
    "12. `Device` - Type of device used by a student\n",
    "    * Tab = 0\n",
    "    * Mobile = 1\n",
    "    * Computer = 2\n",
    "13. `Adaptivity Level` - Adaptability level of a student to online class\n",
    "    * Low = 0\n",
    "    * Moderate = 1\n",
    "    * High = 2\n",
    "\n",
    "_**Note:** No personal identifiable information (PPI) can be found in the dataset._"
   ]
  },
  {
   "attachments": {},
   "cell_type": "markdown",
   "metadata": {},
   "source": [
    "## Preparing the tools\n",
    "\n",
    "Data Analysis and Manipulation: Pandas, Matplotlib & NumPy\n",
    "\n",
    "Modelling: Scikit-Learn\n",
    "\n",
    "* [Pandas](https://pandas.pydata.org/) for data analysis.\n",
    "* [NumPy](https://numpy.org/) for numerical operations.\n",
    "* [Matplotlib](https://matplotlib.org/)/[Seaborn](https://seaborn.pydata.org/) for plotting or data visualization.\n",
    "* [Scikit-Learn](https://scikit-learn.org/stable/) for machine learning modelling and evaluation."
   ]
  },
  {
   "cell_type": "code",
   "execution_count": 7,
   "metadata": {},
   "outputs": [],
   "source": [
    "# Import libraries for regular EDA (Exploratory Data Analysis)\n",
    "import pandas as pd\n",
    "import matplotlib.pyplot as plt\n",
    "import numpy as np\n",
    "import seaborn as sns\n",
    "%matplotlib inline\n",
    "\n",
    "# Models\n",
    "from sklearn.linear_model import LogisticRegression\n",
    "from sklearn.neighbors import KNeighborsClassifier\n",
    "from sklearn.ensemble import RandomForestClassifier\n",
    "\n",
    "# Model Ealuations\n",
    "from sklearn.model_selection import train_test_split, cross_val_score\n",
    "from sklearn.model_selection import RandomizedSearchCV, GridSearchCV\n",
    "from sklearn.metrics import confusion_matrix, classification_report\n",
    "from sklearn.metrics import precision_score, recall_score, f1_score\n",
    "from scikitplot.metrics import plot_roc_curve"
   ]
  },
  {
   "attachments": {},
   "cell_type": "markdown",
   "metadata": {},
   "source": [
    "## Load Data"
   ]
  },
  {
   "cell_type": "code",
   "execution_count": 19,
   "metadata": {},
   "outputs": [
    {
     "name": "stdout",
     "output_type": "stream",
     "text": [
      "Table Rows: 1205 | Columns: 14\n"
     ]
    }
   ],
   "source": [
    "# Read Worksheet Worksheet #4: Mini Task on Data Analytics from the data folder\n",
    "df = pd.read_csv(\"./data/Worksheet #4_ Mini Task on Data Analytics - Dataset.csv\")\n",
    "\n",
    "# Check shape of rows and column of the dataframe shape(rows, cols)\n",
    "print(f\"Table Rows: {df.shape[0]} | Columns: {df.shape[1]}\")"
   ]
  },
  {
   "cell_type": "markdown",
   "metadata": {},
   "source": [
    "## Data Exploration (EDA - Exploratory Data Analysis)"
   ]
  },
  {
   "attachments": {},
   "cell_type": "markdown",
   "metadata": {},
   "source": [
    "#### Dataframe Overview\n",
    "Based on the information provided, the data frame has 1205 rows and 14 columns. The columns are named Gender, Age, Education Level, Institution Type, IT Student, Location, Load-shedding, Financial Condition, Internet Type, Network Type, Class Duration, Self Lms, Device, and Adaptivity Level.\n",
    "\n",
    "The \"count\" row indicates that there are 1205 non-missing values in each column. This means that the data frame is complete with no missing values.\n",
    "\n",
    "The \"unique\" row indicates the number of distinct values for each column. For example, there are 2 unique values in the Gender column, which suggests that the data includes information about males and females. Similarly, there are 6 unique values in the Age column, suggesting that the ages of the individuals range from young to middle-aged. There are 3 unique values in the Education Level column, 2 unique values in the Institution Type column, and so on.\n",
    "\n",
    "The \"top\" row indicates the most frequently occurring value in each column. For example, the most frequent Gender is \"Boy\", the most frequent Age group is \"21-25\", and the most frequent Education Level is \"School\". This information gives an indication of the dominant characteristics in the dataset.\n",
    "\n",
    "The \"freq\" row indicates the frequency of the most frequently occurring value in each column. For example, the Gender column has 663 instances of \"Boy\", the Age column has 374 instances of \"21-25\", and so on. This information can be useful in identifying any imbalances or biases in the dataset.\n",
    "\n",
    "Overall, this information provides a basic overview of the data frame, including the number of rows and columns, the completeness of the data, and the unique values and frequencies for each column."
   ]
  },
  {
   "cell_type": "code",
   "execution_count": 29,
   "metadata": {},
   "outputs": [
    {
     "data": {
      "text/html": [
       "<div>\n",
       "<style scoped>\n",
       "    .dataframe tbody tr th:only-of-type {\n",
       "        vertical-align: middle;\n",
       "    }\n",
       "\n",
       "    .dataframe tbody tr th {\n",
       "        vertical-align: top;\n",
       "    }\n",
       "\n",
       "    .dataframe thead th {\n",
       "        text-align: right;\n",
       "    }\n",
       "</style>\n",
       "<table border=\"1\" class=\"dataframe\">\n",
       "  <thead>\n",
       "    <tr style=\"text-align: right;\">\n",
       "      <th></th>\n",
       "      <th>Gender</th>\n",
       "      <th>Age</th>\n",
       "      <th>Education Level</th>\n",
       "      <th>Institution Type</th>\n",
       "      <th>IT Student</th>\n",
       "      <th>Location</th>\n",
       "      <th>Load-shedding</th>\n",
       "      <th>Financial Condition</th>\n",
       "      <th>Internet Type</th>\n",
       "      <th>Network Type</th>\n",
       "      <th>Class Duration</th>\n",
       "      <th>Self Lms</th>\n",
       "      <th>Device</th>\n",
       "      <th>Adaptivity Level</th>\n",
       "    </tr>\n",
       "  </thead>\n",
       "  <tbody>\n",
       "    <tr>\n",
       "      <th>count</th>\n",
       "      <td>1205</td>\n",
       "      <td>1205</td>\n",
       "      <td>1205</td>\n",
       "      <td>1205</td>\n",
       "      <td>1205</td>\n",
       "      <td>1205</td>\n",
       "      <td>1205</td>\n",
       "      <td>1205</td>\n",
       "      <td>1205</td>\n",
       "      <td>1205</td>\n",
       "      <td>1205</td>\n",
       "      <td>1205</td>\n",
       "      <td>1205</td>\n",
       "      <td>1205</td>\n",
       "    </tr>\n",
       "    <tr>\n",
       "      <th>unique</th>\n",
       "      <td>2</td>\n",
       "      <td>6</td>\n",
       "      <td>3</td>\n",
       "      <td>2</td>\n",
       "      <td>2</td>\n",
       "      <td>2</td>\n",
       "      <td>2</td>\n",
       "      <td>3</td>\n",
       "      <td>2</td>\n",
       "      <td>3</td>\n",
       "      <td>3</td>\n",
       "      <td>2</td>\n",
       "      <td>3</td>\n",
       "      <td>3</td>\n",
       "    </tr>\n",
       "    <tr>\n",
       "      <th>top</th>\n",
       "      <td>Boy</td>\n",
       "      <td>21-25</td>\n",
       "      <td>School</td>\n",
       "      <td>Non Government</td>\n",
       "      <td>No</td>\n",
       "      <td>Yes</td>\n",
       "      <td>Low</td>\n",
       "      <td>Mid</td>\n",
       "      <td>Mobile Data</td>\n",
       "      <td>4G</td>\n",
       "      <td>1-3</td>\n",
       "      <td>No</td>\n",
       "      <td>Mobile</td>\n",
       "      <td>Moderate</td>\n",
       "    </tr>\n",
       "    <tr>\n",
       "      <th>freq</th>\n",
       "      <td>663</td>\n",
       "      <td>374</td>\n",
       "      <td>530</td>\n",
       "      <td>823</td>\n",
       "      <td>901</td>\n",
       "      <td>935</td>\n",
       "      <td>1004</td>\n",
       "      <td>878</td>\n",
       "      <td>695</td>\n",
       "      <td>775</td>\n",
       "      <td>840</td>\n",
       "      <td>995</td>\n",
       "      <td>1013</td>\n",
       "      <td>625</td>\n",
       "    </tr>\n",
       "  </tbody>\n",
       "</table>\n",
       "</div>"
      ],
      "text/plain": [
       "       Gender    Age Education Level Institution Type IT Student Location  \\\n",
       "count    1205   1205            1205             1205       1205     1205   \n",
       "unique      2      6               3                2          2        2   \n",
       "top       Boy  21-25          School   Non Government         No      Yes   \n",
       "freq      663    374             530              823        901      935   \n",
       "\n",
       "       Load-shedding Financial Condition Internet Type Network Type  \\\n",
       "count           1205                1205          1205         1205   \n",
       "unique             2                   3             2            3   \n",
       "top              Low                 Mid   Mobile Data           4G   \n",
       "freq            1004                 878           695          775   \n",
       "\n",
       "       Class Duration Self Lms  Device Adaptivity Level  \n",
       "count            1205     1205    1205             1205  \n",
       "unique              3        2       3                3  \n",
       "top               1-3       No  Mobile         Moderate  \n",
       "freq              840      995    1013              625  "
      ]
     },
     "execution_count": 29,
     "metadata": {},
     "output_type": "execute_result"
    }
   ],
   "source": [
    "# Overview of dataframe metrics for some quick insights\n",
    "df.describe()"
   ]
  },
  {
   "attachments": {},
   "cell_type": "markdown",
   "metadata": {},
   "source": [
    "#### Null & Missing Value Check\n",
    "There are no null or missing values in the dataset. The dataset includes information on various factors such as gender, age, education level, institution type, etc. of a group of individuals. The value of 0 next to each variable indicates that there are no missing values or null values for that variable in the dataset.\n",
    "\n",
    "This suggests that the dataset is complete and can be used for analysis without the need for imputation or other techniques to address missing data. The next step would be to explore the relationships between the different variables in the dataset and conduct further analysis as needed."
   ]
  },
  {
   "cell_type": "code",
   "execution_count": 27,
   "metadata": {},
   "outputs": [
    {
     "name": "stdout",
     "output_type": "stream",
     "text": [
      "<class 'pandas.core.frame.DataFrame'>\n",
      "RangeIndex: 1205 entries, 0 to 1204\n",
      "Data columns (total 14 columns):\n",
      " #   Column               Non-Null Count  Dtype \n",
      "---  ------               --------------  ----- \n",
      " 0   Gender               1205 non-null   object\n",
      " 1   Age                  1205 non-null   object\n",
      " 2   Education Level      1205 non-null   object\n",
      " 3   Institution Type     1205 non-null   object\n",
      " 4   IT Student           1205 non-null   object\n",
      " 5   Location             1205 non-null   object\n",
      " 6   Load-shedding        1205 non-null   object\n",
      " 7   Financial Condition  1205 non-null   object\n",
      " 8   Internet Type        1205 non-null   object\n",
      " 9   Network Type         1205 non-null   object\n",
      " 10  Class Duration       1205 non-null   object\n",
      " 11  Self Lms             1205 non-null   object\n",
      " 12  Device               1205 non-null   object\n",
      " 13  Adaptivity Level     1205 non-null   object\n",
      "dtypes: object(14)\n",
      "memory usage: 131.9+ KB\n"
     ]
    }
   ],
   "source": [
    "# Check for null values and data types\n",
    "df.info()"
   ]
  },
  {
   "cell_type": "code",
   "execution_count": 28,
   "metadata": {},
   "outputs": [
    {
     "data": {
      "text/plain": [
       "Gender                 0\n",
       "Age                    0\n",
       "Education Level        0\n",
       "Institution Type       0\n",
       "IT Student             0\n",
       "Location               0\n",
       "Load-shedding          0\n",
       "Financial Condition    0\n",
       "Internet Type          0\n",
       "Network Type           0\n",
       "Class Duration         0\n",
       "Self Lms               0\n",
       "Device                 0\n",
       "Adaptivity Level       0\n",
       "dtype: int64"
      ]
     },
     "execution_count": 28,
     "metadata": {},
     "output_type": "execute_result"
    }
   ],
   "source": [
    "# Check for missing values\n",
    "df.isna().sum()"
   ]
  },
  {
   "attachments": {},
   "cell_type": "markdown",
   "metadata": {},
   "source": [
    "#### Finding the balance between the levels\n",
    "The balance of Adaptability level can be measured by looking at the distribution of adaptivity levels across a population or sample. In this case, there are three levels: moderate, low, and high, and the number of individuals in each level is provided.\n",
    "\n",
    "The highest number of individuals are in the moderate adaptivity level group, with 625 individuals. This suggests that the majority of individuals have a moderate level of adaptivity, meaning they are able to adjust to new situations and environments, but may struggle with major changes or unexpected events.\n",
    "\n",
    "The low adaptivity level group contains 480 individuals, which is a substantial portion of the population. These individuals may struggle more with adapting to new situations and may benefit from additional support or resources to help them adjust.\n",
    "\n",
    "Finally, there are only 100 individuals in the high adaptivity level group, suggesting that this is a relatively rare trait within the population. These individuals may be particularly skilled at adapting to new situations and thrive in challenging or uncertain environments.\n",
    "\n",
    "Overall, the balance of adaptivity level within this population suggests that while most individuals have a moderate level of adaptivity, there is a significant minority who may benefit from additional support, and a smaller group who possess exceptional adaptability."
   ]
  },
  {
   "cell_type": "code",
   "execution_count": 20,
   "metadata": {},
   "outputs": [
    {
     "data": {
      "text/html": [
       "<div>\n",
       "<style scoped>\n",
       "    .dataframe tbody tr th:only-of-type {\n",
       "        vertical-align: middle;\n",
       "    }\n",
       "\n",
       "    .dataframe tbody tr th {\n",
       "        vertical-align: top;\n",
       "    }\n",
       "\n",
       "    .dataframe thead th {\n",
       "        text-align: right;\n",
       "    }\n",
       "</style>\n",
       "<table border=\"1\" class=\"dataframe\">\n",
       "  <thead>\n",
       "    <tr style=\"text-align: right;\">\n",
       "      <th></th>\n",
       "      <th>Gender</th>\n",
       "      <th>Age</th>\n",
       "      <th>Education Level</th>\n",
       "      <th>Institution Type</th>\n",
       "      <th>IT Student</th>\n",
       "      <th>Location</th>\n",
       "      <th>Load-shedding</th>\n",
       "      <th>Financial Condition</th>\n",
       "      <th>Internet Type</th>\n",
       "      <th>Network Type</th>\n",
       "      <th>Class Duration</th>\n",
       "      <th>Self Lms</th>\n",
       "      <th>Device</th>\n",
       "      <th>Adaptivity Level</th>\n",
       "    </tr>\n",
       "  </thead>\n",
       "  <tbody>\n",
       "    <tr>\n",
       "      <th>0</th>\n",
       "      <td>Boy</td>\n",
       "      <td>21-25</td>\n",
       "      <td>University</td>\n",
       "      <td>Non Government</td>\n",
       "      <td>No</td>\n",
       "      <td>Yes</td>\n",
       "      <td>Low</td>\n",
       "      <td>Mid</td>\n",
       "      <td>Wifi</td>\n",
       "      <td>4G</td>\n",
       "      <td>3-6</td>\n",
       "      <td>No</td>\n",
       "      <td>Tab</td>\n",
       "      <td>Moderate</td>\n",
       "    </tr>\n",
       "    <tr>\n",
       "      <th>1</th>\n",
       "      <td>Girl</td>\n",
       "      <td>21-25</td>\n",
       "      <td>University</td>\n",
       "      <td>Non Government</td>\n",
       "      <td>No</td>\n",
       "      <td>Yes</td>\n",
       "      <td>High</td>\n",
       "      <td>Mid</td>\n",
       "      <td>Mobile Data</td>\n",
       "      <td>4G</td>\n",
       "      <td>1-3</td>\n",
       "      <td>Yes</td>\n",
       "      <td>Mobile</td>\n",
       "      <td>Moderate</td>\n",
       "    </tr>\n",
       "    <tr>\n",
       "      <th>2</th>\n",
       "      <td>Girl</td>\n",
       "      <td>16-20</td>\n",
       "      <td>College</td>\n",
       "      <td>Government</td>\n",
       "      <td>No</td>\n",
       "      <td>Yes</td>\n",
       "      <td>Low</td>\n",
       "      <td>Mid</td>\n",
       "      <td>Wifi</td>\n",
       "      <td>4G</td>\n",
       "      <td>1-3</td>\n",
       "      <td>No</td>\n",
       "      <td>Mobile</td>\n",
       "      <td>Moderate</td>\n",
       "    </tr>\n",
       "    <tr>\n",
       "      <th>3</th>\n",
       "      <td>Girl</td>\n",
       "      <td>11-15</td>\n",
       "      <td>School</td>\n",
       "      <td>Non Government</td>\n",
       "      <td>No</td>\n",
       "      <td>Yes</td>\n",
       "      <td>Low</td>\n",
       "      <td>Mid</td>\n",
       "      <td>Mobile Data</td>\n",
       "      <td>4G</td>\n",
       "      <td>1-3</td>\n",
       "      <td>No</td>\n",
       "      <td>Mobile</td>\n",
       "      <td>Moderate</td>\n",
       "    </tr>\n",
       "    <tr>\n",
       "      <th>4</th>\n",
       "      <td>Girl</td>\n",
       "      <td>16-20</td>\n",
       "      <td>School</td>\n",
       "      <td>Non Government</td>\n",
       "      <td>No</td>\n",
       "      <td>Yes</td>\n",
       "      <td>Low</td>\n",
       "      <td>Poor</td>\n",
       "      <td>Mobile Data</td>\n",
       "      <td>3G</td>\n",
       "      <td>0</td>\n",
       "      <td>No</td>\n",
       "      <td>Mobile</td>\n",
       "      <td>Low</td>\n",
       "    </tr>\n",
       "  </tbody>\n",
       "</table>\n",
       "</div>"
      ],
      "text/plain": [
       "  Gender    Age Education Level Institution Type IT Student Location  \\\n",
       "0    Boy  21-25      University   Non Government         No      Yes   \n",
       "1   Girl  21-25      University   Non Government         No      Yes   \n",
       "2   Girl  16-20         College       Government         No      Yes   \n",
       "3   Girl  11-15          School   Non Government         No      Yes   \n",
       "4   Girl  16-20          School   Non Government         No      Yes   \n",
       "\n",
       "  Load-shedding Financial Condition Internet Type Network Type Class Duration  \\\n",
       "0           Low                 Mid          Wifi           4G            3-6   \n",
       "1          High                 Mid   Mobile Data           4G            1-3   \n",
       "2           Low                 Mid          Wifi           4G            1-3   \n",
       "3           Low                 Mid   Mobile Data           4G            1-3   \n",
       "4           Low                Poor   Mobile Data           3G              0   \n",
       "\n",
       "  Self Lms  Device Adaptivity Level  \n",
       "0       No     Tab         Moderate  \n",
       "1      Yes  Mobile         Moderate  \n",
       "2       No  Mobile         Moderate  \n",
       "3       No  Mobile         Moderate  \n",
       "4       No  Mobile              Low  "
      ]
     },
     "execution_count": 20,
     "metadata": {},
     "output_type": "execute_result"
    }
   ],
   "source": [
    "# Overview of dataframe\n",
    "df.head()"
   ]
  },
  {
   "cell_type": "code",
   "execution_count": 26,
   "metadata": {},
   "outputs": [
    {
     "data": {
      "text/plain": [
       "Moderate    625\n",
       "Low         480\n",
       "High        100\n",
       "Name: Adaptivity Level, dtype: int64"
      ]
     },
     "execution_count": 26,
     "metadata": {},
     "output_type": "execute_result"
    }
   ],
   "source": [
    "# Over view of how many class available in our Adaptivity column\n",
    "df['Adaptivity Level'].value_counts()"
   ]
  },
  {
   "cell_type": "code",
   "execution_count": 94,
   "metadata": {},
   "outputs": [],
   "source": [
    "# Color CONSTANTS\n",
    "PRIMARY = \"#2C3333\"\n",
    "SECONDARY = \"#395B64\"\n",
    "NEUTRAL = \"#A5C9CA\""
   ]
  },
  {
   "cell_type": "code",
   "execution_count": 95,
   "metadata": {},
   "outputs": [
    {
     "data": {
      "image/png": "[encoded data removed]",
      "text/plain": [
       "<Figure size 640x480 with 1 Axes>"
      ]
     },
     "metadata": {},
     "output_type": "display_data"
    }
   ],
   "source": [
    "# Plot Adaptivity column\n",
    "df['Adaptivity Level'].value_counts().plot(kind='bar', color=[PRIMARY, SECONDARY, NEUTRAL])\n",
    "plt.title(\"Student Adaptability Classification\")\n",
    "plt.xlabel(\"Adaptability Level: Low | Moderate | High\")\n",
    "plt.ylabel(\"Count of Students\")\n",
    "plt.xticks(rotation = 0);"
   ]
  },
  {
   "attachments": {},
   "cell_type": "markdown",
   "metadata": {},
   "source": [
    "#### Student Frequency according to Gender"
   ]
  },
  {
   "attachments": {},
   "cell_type": "markdown",
   "metadata": {},
   "source": [
    "The crosstab comparison shows the distribution of individuals by Gender (Boy or Girl) and Adaptivity Level (High, Low, or Moderate).\n",
    "\n",
    "We can see that there are more Boys (663) than Girls (542) in the dataset overall. Looking at the Adaptivity Level column, the most common level of adaptivity is Moderate, followed by Low and then High.\n",
    "\n",
    "The crosstab comparison shows that there are more Boys than Girls in all three levels of Adaptivity, with the difference being most pronounced in the High Adaptivity level, where Boys make up 71 out of 100 individuals (71%).\n",
    "\n",
    "In the Low Adaptivity level, there are more Boys than Girls, but the difference is less pronounced (245 Boys vs. 235 Girls).\n",
    "\n",
    "In the Moderate Adaptivity level, there are also more Boys than Girls, but the difference is even smaller (347 Boys vs. 278 Girls).\n",
    "\n",
    "Overall, this crosstab comparison suggests that there may be some gender differences in adaptivity levels, with Boys being more likely to have high adaptivity than Girls. However, further analysis would be needed to explore the relationship between gender and adaptivity more deeply and to determine the significance of these differences."
   ]
  },
  {
   "cell_type": "code",
   "execution_count": 34,
   "metadata": {},
   "outputs": [
    {
     "name": "stdout",
     "output_type": "stream",
     "text": [
      "Total Gender Count\n"
     ]
    },
    {
     "data": {
      "text/plain": [
       "Boy     663\n",
       "Girl    542\n",
       "Name: Gender, dtype: int64"
      ]
     },
     "execution_count": 34,
     "metadata": {},
     "output_type": "execute_result"
    }
   ],
   "source": [
    "# Reference data dictionary\n",
    "# Boy\n",
    "# Girl\n",
    "print(\"Total Gender Count\")\n",
    "df['Gender'].value_counts()"
   ]
  },
  {
   "cell_type": "code",
   "execution_count": 50,
   "metadata": {},
   "outputs": [
    {
     "data": {
      "text/html": [
       "<div>\n",
       "<style scoped>\n",
       "    .dataframe tbody tr th:only-of-type {\n",
       "        vertical-align: middle;\n",
       "    }\n",
       "\n",
       "    .dataframe tbody tr th {\n",
       "        vertical-align: top;\n",
       "    }\n",
       "\n",
       "    .dataframe thead th {\n",
       "        text-align: right;\n",
       "    }\n",
       "</style>\n",
       "<table border=\"1\" class=\"dataframe\">\n",
       "  <thead>\n",
       "    <tr style=\"text-align: right;\">\n",
       "      <th>Gender</th>\n",
       "      <th>Boy</th>\n",
       "      <th>Girl</th>\n",
       "    </tr>\n",
       "    <tr>\n",
       "      <th>Adaptivity Level</th>\n",
       "      <th></th>\n",
       "      <th></th>\n",
       "    </tr>\n",
       "  </thead>\n",
       "  <tbody>\n",
       "    <tr>\n",
       "      <th>High</th>\n",
       "      <td>71</td>\n",
       "      <td>29</td>\n",
       "    </tr>\n",
       "    <tr>\n",
       "      <th>Low</th>\n",
       "      <td>245</td>\n",
       "      <td>235</td>\n",
       "    </tr>\n",
       "    <tr>\n",
       "      <th>Moderate</th>\n",
       "      <td>347</td>\n",
       "      <td>278</td>\n",
       "    </tr>\n",
       "  </tbody>\n",
       "</table>\n",
       "</div>"
      ],
      "text/plain": [
       "Gender            Boy  Girl\n",
       "Adaptivity Level           \n",
       "High               71    29\n",
       "Low               245   235\n",
       "Moderate          347   278"
      ]
     },
     "execution_count": 50,
     "metadata": {},
     "output_type": "execute_result"
    }
   ],
   "source": [
    "# Adaptability Level and Gender comparison\n",
    "a_g_cross_tab = pd.crosstab(df['Adaptivity Level'], df['Gender'])\n",
    "a_g_cross_tab"
   ]
  },
  {
   "cell_type": "code",
   "execution_count": 103,
   "metadata": {},
   "outputs": [
    {
     "data": {
      "image/png": "[encoded data removed]",
      "text/plain": [
       "<Figure size 1200x700 with 1 Axes>"
      ]
     },
     "metadata": {},
     "output_type": "display_data"
    }
   ],
   "source": [
    "# Plot Crosstab\n",
    "a_g_cross_tab.plot(kind='bar', figsize=(12,7), color=[PRIMARY, NEUTRAL]);\n",
    "plt.title(\"Student Classification Frequency per Gender\")\n",
    "plt.xlabel(\"Student  Adaptability Level: Low | Moderate | High\")\n",
    "plt.ylabel(\"Gender Count\")\n",
    "plt.legend(['Boy', 'Girl'])\n",
    "plt.xticks(rotation=0);"
   ]
  },
  {
   "attachments": {},
   "cell_type": "markdown",
   "metadata": {},
   "source": [
    "#### Age & Adaptability Level \n",
    "The crosstab comparison shows the distribution of individuals by Age group (1-5, 6-10, 11-15, 16-20, 21-25, and 26-30) and Adaptivity Level (High, Low, or Moderate).\n",
    "\n",
    "We can see that the most common age group in the dataset is 11-15 years old, followed by 21-25 and 16-20.\n",
    "\n",
    "Looking at the Adaptivity Level column, the most common level of adaptivity is Moderate, followed by Low and then High.\n",
    "\n",
    "The crosstab comparison shows that the highest number of individuals with High Adaptivity is in the age group of 21-25 (38 individuals), followed by 11-15 (28 individuals).\n",
    "\n",
    "In the Low Adaptivity level, the highest number of individuals is in the age group of 144 individuals in the age range of 16-20, followed by 139 individuals in the age range of 21-25.\n",
    "\n",
    "In the Moderate Adaptivity level, the highest number of individuals is in the age group of 205 individuals in the age range of 11-15, followed by 197 individuals in the age range of 21-25.\n",
    "\n",
    "Overall, this crosstab comparison suggests that age group may have an impact on adaptivity levels, with the age group of 11-15 being more likely to have moderate adaptivity, while the age group of 21-25 is more likely to have high adaptivity. However, further analysis would be needed to explore the relationship between age and adaptivity more deeply and to determine the significance of these differences."
   ]
  },
  {
   "cell_type": "code",
   "execution_count": 106,
   "metadata": {},
   "outputs": [
    {
     "data": {
      "text/html": [
       "<div>\n",
       "<style scoped>\n",
       "    .dataframe tbody tr th:only-of-type {\n",
       "        vertical-align: middle;\n",
       "    }\n",
       "\n",
       "    .dataframe tbody tr th {\n",
       "        vertical-align: top;\n",
       "    }\n",
       "\n",
       "    .dataframe thead th {\n",
       "        text-align: right;\n",
       "    }\n",
       "</style>\n",
       "<table border=\"1\" class=\"dataframe\">\n",
       "  <thead>\n",
       "    <tr style=\"text-align: right;\">\n",
       "      <th>Adaptivity Level</th>\n",
       "      <th>High</th>\n",
       "      <th>Low</th>\n",
       "      <th>Moderate</th>\n",
       "    </tr>\n",
       "    <tr>\n",
       "      <th>Age</th>\n",
       "      <th></th>\n",
       "      <th></th>\n",
       "      <th></th>\n",
       "    </tr>\n",
       "  </thead>\n",
       "  <tbody>\n",
       "    <tr>\n",
       "      <th>1-5</th>\n",
       "      <td>0</td>\n",
       "      <td>17</td>\n",
       "      <td>64</td>\n",
       "    </tr>\n",
       "    <tr>\n",
       "      <th>11-15</th>\n",
       "      <td>28</td>\n",
       "      <td>120</td>\n",
       "      <td>205</td>\n",
       "    </tr>\n",
       "    <tr>\n",
       "      <th>16-20</th>\n",
       "      <td>5</td>\n",
       "      <td>144</td>\n",
       "      <td>129</td>\n",
       "    </tr>\n",
       "    <tr>\n",
       "      <th>21-25</th>\n",
       "      <td>38</td>\n",
       "      <td>139</td>\n",
       "      <td>197</td>\n",
       "    </tr>\n",
       "    <tr>\n",
       "      <th>26-30</th>\n",
       "      <td>12</td>\n",
       "      <td>36</td>\n",
       "      <td>20</td>\n",
       "    </tr>\n",
       "    <tr>\n",
       "      <th>6-10</th>\n",
       "      <td>17</td>\n",
       "      <td>24</td>\n",
       "      <td>10</td>\n",
       "    </tr>\n",
       "  </tbody>\n",
       "</table>\n",
       "</div>"
      ],
      "text/plain": [
       "Adaptivity Level  High  Low  Moderate\n",
       "Age                                  \n",
       "1-5                  0   17        64\n",
       "11-15               28  120       205\n",
       "16-20                5  144       129\n",
       "21-25               38  139       197\n",
       "26-30               12   36        20\n",
       "6-10                17   24        10"
      ]
     },
     "execution_count": 106,
     "metadata": {},
     "output_type": "execute_result"
    }
   ],
   "source": [
    "# Adaptability Level & Age comparison\n",
    "a_a_cross_tab = pd.crosstab(df['Age'], df['Adaptivity Level'])\n",
    "a_a_cross_tab"
   ]
  },
  {
   "cell_type": "code",
   "execution_count": 107,
   "metadata": {},
   "outputs": [
    {
     "data": {
      "image/png": "[encoded data removed]",
      "text/plain": [
       "<Figure size 1200x700 with 1 Axes>"
      ]
     },
     "metadata": {},
     "output_type": "display_data"
    }
   ],
   "source": [
    "# Plot Crosstab\n",
    "a_a_cross_tab.plot(kind=\"bar\",\n",
    "                  figsize=(12, 7),\n",
    "                  color=[PRIMARY, SECONDARY, NEUTRAL]);\n",
    "plt.title(\"Student Adaptability per Age\")\n",
    "plt.xlabel(\"Student Age: 1-5| 6-10 | 11-15 | 16-20 | 21-25 | 26-30\")\n",
    "plt.ylabel(\"Adaptability: Low | Moderate | High\")\n",
    "plt.legend(['Low', 'Moderate', 'High'])\n",
    "plt.xticks(rotation=0);"
   ]
  },
  {
   "attachments": {},
   "cell_type": "markdown",
   "metadata": {},
   "source": [
    "#### Education Level & Adaptability Level\n",
    "The crosstab comparison shows the distribution of individuals by Education Level (College, School, and University) and Adaptivity Level (High, Low, or Moderate).\n",
    "\n",
    "We can see that the most common Education Level in the dataset is School, followed by University and then College.\n",
    "\n",
    "Looking at the Adaptivity Level column, the most common level of adaptivity is Moderate, followed by Low and then High.\n",
    "\n",
    "The crosstab comparison shows that the highest number of individuals with High Adaptivity is in the Education Level of University (50 individuals), followed by School (47 individuals).\n",
    "\n",
    "\n",
    "Overall, this crosstab comparison suggests that education level may have an impact on adaptivity levels, with individuals who attend University being more likely to have high adaptivity and individuals who attend School being more likely to have low or moderate adaptivity. However, further analysis would be needed to explore the relationship between education level and adaptivity more deeply and to determine the significance of these differences."
   ]
  },
  {
   "cell_type": "code",
   "execution_count": 98,
   "metadata": {},
   "outputs": [
    {
     "data": {
      "text/html": [
       "<div>\n",
       "<style scoped>\n",
       "    .dataframe tbody tr th:only-of-type {\n",
       "        vertical-align: middle;\n",
       "    }\n",
       "\n",
       "    .dataframe tbody tr th {\n",
       "        vertical-align: top;\n",
       "    }\n",
       "\n",
       "    .dataframe thead th {\n",
       "        text-align: right;\n",
       "    }\n",
       "</style>\n",
       "<table border=\"1\" class=\"dataframe\">\n",
       "  <thead>\n",
       "    <tr style=\"text-align: right;\">\n",
       "      <th>Adaptivity Level</th>\n",
       "      <th>High</th>\n",
       "      <th>Low</th>\n",
       "      <th>Moderate</th>\n",
       "    </tr>\n",
       "    <tr>\n",
       "      <th>Education Level</th>\n",
       "      <th></th>\n",
       "      <th></th>\n",
       "      <th></th>\n",
       "    </tr>\n",
       "  </thead>\n",
       "  <tbody>\n",
       "    <tr>\n",
       "      <th>College</th>\n",
       "      <td>3</td>\n",
       "      <td>120</td>\n",
       "      <td>96</td>\n",
       "    </tr>\n",
       "    <tr>\n",
       "      <th>School</th>\n",
       "      <td>47</td>\n",
       "      <td>182</td>\n",
       "      <td>301</td>\n",
       "    </tr>\n",
       "    <tr>\n",
       "      <th>University</th>\n",
       "      <td>50</td>\n",
       "      <td>178</td>\n",
       "      <td>228</td>\n",
       "    </tr>\n",
       "  </tbody>\n",
       "</table>\n",
       "</div>"
      ],
      "text/plain": [
       "Adaptivity Level  High  Low  Moderate\n",
       "Education Level                      \n",
       "College              3  120        96\n",
       "School              47  182       301\n",
       "University          50  178       228"
      ]
     },
     "execution_count": 98,
     "metadata": {},
     "output_type": "execute_result"
    }
   ],
   "source": [
    "e_a_cross_tab = pd.crosstab(df['Education Level'], df['Adaptivity Level'])\n",
    "e_a_cross_tab"
   ]
  },
  {
   "cell_type": "code",
   "execution_count": 109,
   "metadata": {},
   "outputs": [
    {
     "data": {
      "image/png": "[encoded data removed]",
      "text/plain": [
       "<Figure size 1200x700 with 1 Axes>"
      ]
     },
     "metadata": {},
     "output_type": "display_data"
    }
   ],
   "source": [
    "# Plot Crosstab\n",
    "e_a_cross_tab.plot(kind=\"bar\",\n",
    "                  figsize=(12, 7),\n",
    "                  color=[PRIMARY, SECONDARY, NEUTRAL]);\n",
    "plt.title(\"Student Adaptability per Education Level\")\n",
    "plt.xlabel(\"Student Education Level: College | School | University\")\n",
    "plt.ylabel(\"Adaptability Count\")\n",
    "plt.legend(['Low', 'Moderate', 'High'])\n",
    "plt.xticks(rotation=0);"
   ]
  },
  {
   "attachments": {},
   "cell_type": "markdown",
   "metadata": {},
   "source": [
    "#### Correlation between independent variables"
   ]
  },
  {
   "cell_type": "code",
   "execution_count": 117,
   "metadata": {},
   "outputs": [
    {
     "data": {
      "text/html": [
       "<div>\n",
       "<style scoped>\n",
       "    .dataframe tbody tr th:only-of-type {\n",
       "        vertical-align: middle;\n",
       "    }\n",
       "\n",
       "    .dataframe tbody tr th {\n",
       "        vertical-align: top;\n",
       "    }\n",
       "\n",
       "    .dataframe thead th {\n",
       "        text-align: right;\n",
       "    }\n",
       "</style>\n",
       "<table border=\"1\" class=\"dataframe\">\n",
       "  <thead>\n",
       "    <tr style=\"text-align: right;\">\n",
       "      <th></th>\n",
       "    </tr>\n",
       "  </thead>\n",
       "  <tbody>\n",
       "  </tbody>\n",
       "</table>\n",
       "</div>"
      ],
      "text/plain": [
       "Empty DataFrame\n",
       "Columns: []\n",
       "Index: []"
      ]
     },
     "execution_count": 117,
     "metadata": {},
     "output_type": "execute_result"
    }
   ],
   "source": [
    "# Finding correlation\n",
    "corr_matrix = df.corr(numeric_only=True)\n",
    "corr_matrix"
   ]
  },
  {
   "cell_type": "code",
   "execution_count": 120,
   "metadata": {},
   "outputs": [
    {
     "ename": "ValueError",
     "evalue": "zero-size array to reduction operation fmin which has no identity",
     "output_type": "error",
     "traceback": [
      "\u001b[1;31m---------------------------------------------------------------------------\u001b[0m",
      "\u001b[1;31mValueError\u001b[0m                                Traceback (most recent call last)",
      "Cell \u001b[1;32mIn[120], line 5\u001b[0m\n\u001b[0;32m      2\u001b[0m fig, ax \u001b[39m=\u001b[39m plt\u001b[39m.\u001b[39msubplots(figsize\u001b[39m=\u001b[39m(\u001b[39m12\u001b[39m,\u001b[39m7\u001b[39m))\n\u001b[0;32m      4\u001b[0m \u001b[39m# Seaborn for visualization\u001b[39;00m\n\u001b[1;32m----> 5\u001b[0m ax \u001b[39m=\u001b[39m sns\u001b[39m.\u001b[39;49mheatmap(corr_matrix,\n\u001b[0;32m      6\u001b[0m annot\u001b[39m=\u001b[39;49m\u001b[39mTrue\u001b[39;49;00m,\n\u001b[0;32m      7\u001b[0m linewidths\u001b[39m=\u001b[39;49m\u001b[39m0.5\u001b[39;49m,\n\u001b[0;32m      8\u001b[0m fmt\u001b[39m=\u001b[39;49m\u001b[39m\"\u001b[39;49m\u001b[39m.2f\u001b[39;49m\u001b[39m\"\u001b[39;49m,\n\u001b[0;32m      9\u001b[0m cmap\u001b[39m=\u001b[39;49m\u001b[39m\"\u001b[39;49m\u001b[39mY1GnBu\u001b[39;49m\u001b[39m\"\u001b[39;49m)\n",
      "File \u001b[1;32mc:\\Users\\nroque\\AppData\\Local\\Programs\\Python\\Python311\\Lib\\site-packages\\seaborn\\matrix.py:446\u001b[0m, in \u001b[0;36mheatmap\u001b[1;34m(data, vmin, vmax, cmap, center, robust, annot, fmt, annot_kws, linewidths, linecolor, cbar, cbar_kws, cbar_ax, square, xticklabels, yticklabels, mask, ax, **kwargs)\u001b[0m\n\u001b[0;32m    365\u001b[0m \u001b[39m\u001b[39m\u001b[39m\"\"\"Plot rectangular data as a color-encoded matrix.\u001b[39;00m\n\u001b[0;32m    366\u001b[0m \n\u001b[0;32m    367\u001b[0m \u001b[39mThis is an Axes-level function and will draw the heatmap into the\u001b[39;00m\n\u001b[1;32m   (...)\u001b[0m\n\u001b[0;32m    443\u001b[0m \n\u001b[0;32m    444\u001b[0m \u001b[39m\"\"\"\u001b[39;00m\n\u001b[0;32m    445\u001b[0m \u001b[39m# Initialize the plotter object\u001b[39;00m\n\u001b[1;32m--> 446\u001b[0m plotter \u001b[39m=\u001b[39m _HeatMapper(data, vmin, vmax, cmap, center, robust, annot, fmt,\n\u001b[0;32m    447\u001b[0m                       annot_kws, cbar, cbar_kws, xticklabels,\n\u001b[0;32m    448\u001b[0m                       yticklabels, mask)\n\u001b[0;32m    450\u001b[0m \u001b[39m# Add the pcolormesh kwargs here\u001b[39;00m\n\u001b[0;32m    451\u001b[0m kwargs[\u001b[39m\"\u001b[39m\u001b[39mlinewidths\u001b[39m\u001b[39m\"\u001b[39m] \u001b[39m=\u001b[39m linewidths\n",
      "File \u001b[1;32mc:\\Users\\nroque\\AppData\\Local\\Programs\\Python\\Python311\\Lib\\site-packages\\seaborn\\matrix.py:163\u001b[0m, in \u001b[0;36m_HeatMapper.__init__\u001b[1;34m(self, data, vmin, vmax, cmap, center, robust, annot, fmt, annot_kws, cbar, cbar_kws, xticklabels, yticklabels, mask)\u001b[0m\n\u001b[0;32m    160\u001b[0m \u001b[39mself\u001b[39m\u001b[39m.\u001b[39mylabel \u001b[39m=\u001b[39m ylabel \u001b[39mif\u001b[39;00m ylabel \u001b[39mis\u001b[39;00m \u001b[39mnot\u001b[39;00m \u001b[39mNone\u001b[39;00m \u001b[39melse\u001b[39;00m \u001b[39m\"\u001b[39m\u001b[39m\"\u001b[39m\n\u001b[0;32m    162\u001b[0m \u001b[39m# Determine good default values for the colormapping\u001b[39;00m\n\u001b[1;32m--> 163\u001b[0m \u001b[39mself\u001b[39;49m\u001b[39m.\u001b[39;49m_determine_cmap_params(plot_data, vmin, vmax,\n\u001b[0;32m    164\u001b[0m                             cmap, center, robust)\n\u001b[0;32m    166\u001b[0m \u001b[39m# Sort out the annotations\u001b[39;00m\n\u001b[0;32m    167\u001b[0m \u001b[39mif\u001b[39;00m annot \u001b[39mis\u001b[39;00m \u001b[39mNone\u001b[39;00m \u001b[39mor\u001b[39;00m annot \u001b[39mis\u001b[39;00m \u001b[39mFalse\u001b[39;00m:\n",
      "File \u001b[1;32mc:\\Users\\nroque\\AppData\\Local\\Programs\\Python\\Python311\\Lib\\site-packages\\seaborn\\matrix.py:202\u001b[0m, in \u001b[0;36m_HeatMapper._determine_cmap_params\u001b[1;34m(self, plot_data, vmin, vmax, cmap, center, robust)\u001b[0m\n\u001b[0;32m    200\u001b[0m         vmin \u001b[39m=\u001b[39m np\u001b[39m.\u001b[39mnanpercentile(calc_data, \u001b[39m2\u001b[39m)\n\u001b[0;32m    201\u001b[0m     \u001b[39melse\u001b[39;00m:\n\u001b[1;32m--> 202\u001b[0m         vmin \u001b[39m=\u001b[39m np\u001b[39m.\u001b[39;49mnanmin(calc_data)\n\u001b[0;32m    203\u001b[0m \u001b[39mif\u001b[39;00m vmax \u001b[39mis\u001b[39;00m \u001b[39mNone\u001b[39;00m:\n\u001b[0;32m    204\u001b[0m     \u001b[39mif\u001b[39;00m robust:\n",
      "File \u001b[1;32m<__array_function__ internals>:180\u001b[0m, in \u001b[0;36mnanmin\u001b[1;34m(*args, **kwargs)\u001b[0m\n",
      "File \u001b[1;32mc:\\Users\\nroque\\AppData\\Local\\Programs\\Python\\Python311\\Lib\\site-packages\\numpy\\lib\\nanfunctions.py:343\u001b[0m, in \u001b[0;36mnanmin\u001b[1;34m(a, axis, out, keepdims, initial, where)\u001b[0m\n\u001b[0;32m    338\u001b[0m     kwargs[\u001b[39m'\u001b[39m\u001b[39mwhere\u001b[39m\u001b[39m'\u001b[39m] \u001b[39m=\u001b[39m where\n\u001b[0;32m    340\u001b[0m \u001b[39mif\u001b[39;00m \u001b[39mtype\u001b[39m(a) \u001b[39mis\u001b[39;00m np\u001b[39m.\u001b[39mndarray \u001b[39mand\u001b[39;00m a\u001b[39m.\u001b[39mdtype \u001b[39m!=\u001b[39m np\u001b[39m.\u001b[39mobject_:\n\u001b[0;32m    341\u001b[0m     \u001b[39m# Fast, but not safe for subclasses of ndarray, or object arrays,\u001b[39;00m\n\u001b[0;32m    342\u001b[0m     \u001b[39m# which do not implement isnan (gh-9009), or fmin correctly (gh-8975)\u001b[39;00m\n\u001b[1;32m--> 343\u001b[0m     res \u001b[39m=\u001b[39m np\u001b[39m.\u001b[39;49mfmin\u001b[39m.\u001b[39;49mreduce(a, axis\u001b[39m=\u001b[39;49maxis, out\u001b[39m=\u001b[39;49mout, \u001b[39m*\u001b[39;49m\u001b[39m*\u001b[39;49mkwargs)\n\u001b[0;32m    344\u001b[0m     \u001b[39mif\u001b[39;00m np\u001b[39m.\u001b[39misnan(res)\u001b[39m.\u001b[39many():\n\u001b[0;32m    345\u001b[0m         warnings\u001b[39m.\u001b[39mwarn(\u001b[39m\"\u001b[39m\u001b[39mAll-NaN slice encountered\u001b[39m\u001b[39m\"\u001b[39m, \u001b[39mRuntimeWarning\u001b[39;00m,\n\u001b[0;32m    346\u001b[0m                       stacklevel\u001b[39m=\u001b[39m\u001b[39m3\u001b[39m)\n",
      "\u001b[1;31mValueError\u001b[0m: zero-size array to reduction operation fmin which has no identity"
     ]
    },
    {
     "data": {
      "image/png": "[encoded data removed]",
      "text/plain": [
       "<Figure size 1200x700 with 1 Axes>"
      ]
     },
     "metadata": {},
     "output_type": "display_data"
    }
   ],
   "source": [
    "# Visualize correlation\n",
    "fig, ax = plt.subplots(figsize=(12,7))\n",
    "\n",
    "# Seaborn for visualization\n",
    "ax = sns.heatmap(corr_matrix,\n",
    "annot=True,\n",
    "linewidths=0.5,\n",
    "fmt=\".2f\",\n",
    "cmap=\"Y1GnBu\")\n"
   ]
  },
  {
   "cell_type": "code",
   "execution_count": null,
   "metadata": {},
   "outputs": [],
   "source": []
  }
 ],
 "metadata": {
  "kernelspec": {
   "display_name": "Python 3",
   "language": "python",
   "name": "python3"
  },
  "language_info": {
   "codemirror_mode": {
    "name": "ipython",
    "version": 3
   },
   "file_extension": ".py",
   "mimetype": "text/x-python",
   "name": "python",
   "nbconvert_exporter": "python",
   "pygments_lexer": "ipython3",
   "version": "3.11.0"
  },
  "orig_nbformat": 4,
  "vscode": {
   "interpreter": {
    "hash": "5d44c2d875907785e3dc6dfd435a968e8c16204cdebce69e1d889b8fb17b1327"
   }
  }
 },
 "nbformat": 4,
 "nbformat_minor": 2
}
