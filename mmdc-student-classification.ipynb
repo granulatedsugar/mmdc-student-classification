{
 "cells": [
  {
   "attachments": {},
   "cell_type": "markdown",
   "metadata": {},
   "source": [
    "# Students’ Adaptability Level Prediction in an Online Class\n",
    "\n",
    "This notebook looks into using various Python-based machine learning and\n",
    "data science libraries in an attempt to build a machine learning model\n",
    "capable of predicting whether or not a student is capable of adapting to\n",
    "an online class  based on the data provided."
   ]
  },
  {
   "attachments": {},
   "cell_type": "markdown",
   "metadata": {},
   "source": [
    "The following approach will be used:\n",
    "1. Problem definition\n",
    "2. Data\n",
    "3. Evaluation\n",
    "4. Features\n",
    "5. Modelling\n",
    "6. Experimentation"
   ]
  },
  {
   "attachments": {},
   "cell_type": "markdown",
   "metadata": {},
   "source": [
    "#### 1. Problem\n",
    "\n",
    ">In a statement, Given the data provided about a student, can we predict whether or not they can adapt to online schooling?"
   ]
  },
  {
   "attachments": {},
   "cell_type": "markdown",
   "metadata": {},
   "source": [
    "#### 2. Data\n",
    "\n",
    ">The dataset is provided by the MO-IT100 - Introduction to Computing from the MMDC MyCamu's Repository. Source: https://docs.google.com/spreadsheets/d/1b0KBuWPZjwJNibOcyg5NoS4mkxUay0wBDeZAm-LHPsg/edit#gid=1140775492\n",
    "\n",
    ">The original dataset came from Students' Adaptability Level Prediction in Online Education using Machine Learning Approaches or DOI: 10.1109/ICCCNT51525.2021.9579741."
   ]
  },
  {
   "attachments": {},
   "cell_type": "markdown",
   "metadata": {},
   "source": [
    "#### 3. Evaluation\n",
    "\n",
    "> If we can reach 95% accuracy at predicting whether or not a student is able to adapt to online schooling during the proof of concept, we'll pursue the project.\n"
   ]
  },
  {
   "attachments": {},
   "cell_type": "markdown",
   "metadata": {},
   "source": [
    "#### 4. Features\n",
    "\n",
    ">Features are different parts of the data. Provided below is a **data dictionary** will help through the process."
   ]
  },
  {
   "attachments": {},
   "cell_type": "markdown",
   "metadata": {},
   "source": [
    "### Student Adaptability Level Data Dictionary\n",
    "\n",
    "The following are the features will be used to predict our target variable (heart disease or no heart disease).\n",
    "\n",
    "1. `Gender` - (Boy = 1; Girl = 0) \n",
    "2. `Age` - Age in years \n",
    "    * 1-5 = 0\n",
    "    * 6-10 = 1\n",
    "    * 11-15 = 2\n",
    "    * 16-20 = 3\n",
    "    * 26-30 = 4\n",
    "2. `Education Level` - Current level of the student\n",
    "    * School = 0\n",
    "    * College = 1\n",
    "    * University = 2\n",
    "3. `Institution Type` - (Non Government = 0; Government = 1)\n",
    "4. `IT Student` - (No = 0; Yes = 1)\n",
    "5. `Location` - Not sure what this means (No = 0; Yes = 1) \n",
    "6. `Load-shedding` - (Low = 0; High = 1)\n",
    "7. `Financial Condition` - the financial status of a student(No Range Provided)\n",
    "    * Poor = 0\n",
    "    * Mid = 1\n",
    "    * Rich = 2\n",
    "8. `Internet Type` - Connectivity to the network used by the student\n",
    "    * Mobile Data = 0\n",
    "    * Wifi = 1\n",
    "9. `Network Type` - Type of generation network\n",
    "    * 3G - Third Generation Network = 0\n",
    "    * 4G - Fourth Generation Network = 1\n",
    "10. `Class Duration` - the duration of the student class \n",
    "    * 0 = 0\n",
    "    * 1-3 = 1\n",
    "11. `Self Lms` - (No = 0; Yes = 1)\n",
    "12. `Device` - Type of device used by a student\n",
    "    * Tab = 0\n",
    "    * Mobile = 1\n",
    "    * Computer = 2\n",
    "13. `Adaptivity Level` - Adaptability level of a student to online class\n",
    "    * Low = 0\n",
    "    * Moderate = 1\n",
    "    * High = 2\n",
    "\n",
    "_**Note:** No personal identifiable information (PPI) can be found in the dataset._"
   ]
  },
  {
   "attachments": {},
   "cell_type": "markdown",
   "metadata": {},
   "source": [
    "## Preparing the tools\n",
    "\n",
    "Data Analysis and Manipulation: Pandas, Matplotlib & NumPy\n",
    "\n",
    "Modelling: Scikit-Learn\n",
    "\n",
    "* [Pandas](https://pandas.pydata.org/) for data analysis.\n",
    "* [NumPy](https://numpy.org/) for numerical operations.\n",
    "* [Matplotlib](https://matplotlib.org/)/[Seaborn](https://seaborn.pydata.org/) for plotting or data visualization.\n",
    "* [Scikit-Learn](https://scikit-learn.org/stable/) for machine learning modelling and evaluation."
   ]
  },
  {
   "cell_type": "code",
   "execution_count": 7,
   "metadata": {},
   "outputs": [],
   "source": [
    "# Import libraries for regular EDA (Exploratory Data Analysis)\n",
    "import pandas as pd\n",
    "import matplotlib.pyplot as plt\n",
    "import numpy as np\n",
    "import seaborn as sns\n",
    "%matplotlib inline\n",
    "\n",
    "# Models\n",
    "from sklearn.linear_model import LogisticRegression\n",
    "from sklearn.neighbors import KNeighborsClassifier\n",
    "from sklearn.ensemble import RandomForestClassifier\n",
    "\n",
    "# Model Ealuations\n",
    "from sklearn.model_selection import train_test_split, cross_val_score\n",
    "from sklearn.model_selection import RandomizedSearchCV, GridSearchCV\n",
    "from sklearn.metrics import confusion_matrix, classification_report\n",
    "from sklearn.metrics import precision_score, recall_score, f1_score\n",
    "from scikitplot.metrics import plot_roc_curve"
   ]
  },
  {
   "attachments": {},
   "cell_type": "markdown",
   "metadata": {},
   "source": [
    "## Load Data"
   ]
  },
  {
   "cell_type": "code",
   "execution_count": 19,
   "metadata": {},
   "outputs": [
    {
     "name": "stdout",
     "output_type": "stream",
     "text": [
      "Table Rows: 1205 | Columns: 14\n"
     ]
    }
   ],
   "source": [
    "# Read Worksheet Worksheet #4: Mini Task on Data Analytics from the data folder\n",
    "df = pd.read_csv(\"./data/Worksheet #4_ Mini Task on Data Analytics - Dataset.csv\")\n",
    "\n",
    "# Check shape of rows and column of the dataframe shape(rows, cols)\n",
    "print(f\"Table Rows: {df.shape[0]} | Columns: {df.shape[1]}\")"
   ]
  },
  {
   "cell_type": "markdown",
   "metadata": {},
   "source": [
    "## Data Exploration (EDA - Exploratory Data Analysis)"
   ]
  },
  {
   "cell_type": "code",
   "execution_count": 20,
   "metadata": {},
   "outputs": [
    {
     "data": {
      "text/html": [
       "<div>\n",
       "<style scoped>\n",
       "    .dataframe tbody tr th:only-of-type {\n",
       "        vertical-align: middle;\n",
       "    }\n",
       "\n",
       "    .dataframe tbody tr th {\n",
       "        vertical-align: top;\n",
       "    }\n",
       "\n",
       "    .dataframe thead th {\n",
       "        text-align: right;\n",
       "    }\n",
       "</style>\n",
       "<table border=\"1\" class=\"dataframe\">\n",
       "  <thead>\n",
       "    <tr style=\"text-align: right;\">\n",
       "      <th></th>\n",
       "      <th>Gender</th>\n",
       "      <th>Age</th>\n",
       "      <th>Education Level</th>\n",
       "      <th>Institution Type</th>\n",
       "      <th>IT Student</th>\n",
       "      <th>Location</th>\n",
       "      <th>Load-shedding</th>\n",
       "      <th>Financial Condition</th>\n",
       "      <th>Internet Type</th>\n",
       "      <th>Network Type</th>\n",
       "      <th>Class Duration</th>\n",
       "      <th>Self Lms</th>\n",
       "      <th>Device</th>\n",
       "      <th>Adaptivity Level</th>\n",
       "    </tr>\n",
       "  </thead>\n",
       "  <tbody>\n",
       "    <tr>\n",
       "      <th>0</th>\n",
       "      <td>Boy</td>\n",
       "      <td>21-25</td>\n",
       "      <td>University</td>\n",
       "      <td>Non Government</td>\n",
       "      <td>No</td>\n",
       "      <td>Yes</td>\n",
       "      <td>Low</td>\n",
       "      <td>Mid</td>\n",
       "      <td>Wifi</td>\n",
       "      <td>4G</td>\n",
       "      <td>3-6</td>\n",
       "      <td>No</td>\n",
       "      <td>Tab</td>\n",
       "      <td>Moderate</td>\n",
       "    </tr>\n",
       "    <tr>\n",
       "      <th>1</th>\n",
       "      <td>Girl</td>\n",
       "      <td>21-25</td>\n",
       "      <td>University</td>\n",
       "      <td>Non Government</td>\n",
       "      <td>No</td>\n",
       "      <td>Yes</td>\n",
       "      <td>High</td>\n",
       "      <td>Mid</td>\n",
       "      <td>Mobile Data</td>\n",
       "      <td>4G</td>\n",
       "      <td>1-3</td>\n",
       "      <td>Yes</td>\n",
       "      <td>Mobile</td>\n",
       "      <td>Moderate</td>\n",
       "    </tr>\n",
       "    <tr>\n",
       "      <th>2</th>\n",
       "      <td>Girl</td>\n",
       "      <td>16-20</td>\n",
       "      <td>College</td>\n",
       "      <td>Government</td>\n",
       "      <td>No</td>\n",
       "      <td>Yes</td>\n",
       "      <td>Low</td>\n",
       "      <td>Mid</td>\n",
       "      <td>Wifi</td>\n",
       "      <td>4G</td>\n",
       "      <td>1-3</td>\n",
       "      <td>No</td>\n",
       "      <td>Mobile</td>\n",
       "      <td>Moderate</td>\n",
       "    </tr>\n",
       "    <tr>\n",
       "      <th>3</th>\n",
       "      <td>Girl</td>\n",
       "      <td>11-15</td>\n",
       "      <td>School</td>\n",
       "      <td>Non Government</td>\n",
       "      <td>No</td>\n",
       "      <td>Yes</td>\n",
       "      <td>Low</td>\n",
       "      <td>Mid</td>\n",
       "      <td>Mobile Data</td>\n",
       "      <td>4G</td>\n",
       "      <td>1-3</td>\n",
       "      <td>No</td>\n",
       "      <td>Mobile</td>\n",
       "      <td>Moderate</td>\n",
       "    </tr>\n",
       "    <tr>\n",
       "      <th>4</th>\n",
       "      <td>Girl</td>\n",
       "      <td>16-20</td>\n",
       "      <td>School</td>\n",
       "      <td>Non Government</td>\n",
       "      <td>No</td>\n",
       "      <td>Yes</td>\n",
       "      <td>Low</td>\n",
       "      <td>Poor</td>\n",
       "      <td>Mobile Data</td>\n",
       "      <td>3G</td>\n",
       "      <td>0</td>\n",
       "      <td>No</td>\n",
       "      <td>Mobile</td>\n",
       "      <td>Low</td>\n",
       "    </tr>\n",
       "  </tbody>\n",
       "</table>\n",
       "</div>"
      ],
      "text/plain": [
       "  Gender    Age Education Level Institution Type IT Student Location  \\\n",
       "0    Boy  21-25      University   Non Government         No      Yes   \n",
       "1   Girl  21-25      University   Non Government         No      Yes   \n",
       "2   Girl  16-20         College       Government         No      Yes   \n",
       "3   Girl  11-15          School   Non Government         No      Yes   \n",
       "4   Girl  16-20          School   Non Government         No      Yes   \n",
       "\n",
       "  Load-shedding Financial Condition Internet Type Network Type Class Duration  \\\n",
       "0           Low                 Mid          Wifi           4G            3-6   \n",
       "1          High                 Mid   Mobile Data           4G            1-3   \n",
       "2           Low                 Mid          Wifi           4G            1-3   \n",
       "3           Low                 Mid   Mobile Data           4G            1-3   \n",
       "4           Low                Poor   Mobile Data           3G              0   \n",
       "\n",
       "  Self Lms  Device Adaptivity Level  \n",
       "0       No     Tab         Moderate  \n",
       "1      Yes  Mobile         Moderate  \n",
       "2       No  Mobile         Moderate  \n",
       "3       No  Mobile         Moderate  \n",
       "4       No  Mobile              Low  "
      ]
     },
     "execution_count": 20,
     "metadata": {},
     "output_type": "execute_result"
    }
   ],
   "source": [
    "# Overview of dataframe\n",
    "df.head()"
   ]
  },
  {
   "cell_type": "code",
   "execution_count": 21,
   "metadata": {},
   "outputs": [
    {
     "data": {
      "text/plain": [
       "Moderate    625\n",
       "Low         480\n",
       "High        100\n",
       "Name: Adaptivity Level, dtype: int64"
      ]
     },
     "execution_count": 21,
     "metadata": {},
     "output_type": "execute_result"
    }
   ],
   "source": [
    "# Over view of how many class available in our target column\n",
    "df['Adaptivity Level'].value_counts()"
   ]
  },
  {
   "attachments": {},
   "cell_type": "markdown",
   "metadata": {},
   "source": [
    "The balance of adaptivity level can be measured by looking at the distribution of adaptivity levels across a population or sample. In this case, there are three levels: moderate, low, and high, and the number of individuals in each level is provided.\n",
    "\n",
    "The highest number of individuals are in the moderate adaptivity level group, with 625 individuals. This suggests that the majority of individuals have a moderate level of adaptivity, meaning they are able to adjust to new situations and environments, but may struggle with major changes or unexpected events.\n",
    "\n",
    "The low adaptivity level group contains 480 individuals, which is a substantial portion of the population. These individuals may struggle more with adapting to new situations and may benefit from additional support or resources to help them adjust.\n",
    "\n",
    "Finally, there are only 100 individuals in the high adaptivity level group, suggesting that this is a relatively rare trait within the population. These individuals may be particularly skilled at adapting to new situations and thrive in challenging or uncertain environments.\n",
    "\n",
    "Overall, the balance of adaptivity level within this population suggests that while most individuals have a moderate level of adaptivity, there is a significant minority who may benefit from additional support, and a smaller group who possess exceptional adaptability."
   ]
  },
  {
   "cell_type": "code",
   "execution_count": 22,
   "metadata": {},
   "outputs": [
    {
     "data": {
      "image/png": "[encoded data removed]",
      "text/plain": [
       "<Figure size 640x480 with 1 Axes>"
      ]
     },
     "metadata": {},
     "output_type": "display_data"
    }
   ],
   "source": [
    "# Plot Adaptivity column\n",
    "df['Adaptivity Level'].value_counts().plot(kind='bar', color=['salmon', 'lightblue', 'grey'])\n",
    "plt.title(\"Student Adaptivity Classification\")\n",
    "plt.xlabel(\"Adaptivity Level: Low | Moderate | High\")\n",
    "plt.ylabel(\"Count of Students\")\n",
    "plt.xticks(rotation = 0);"
   ]
  },
  {
   "cell_type": "code",
   "execution_count": 24,
   "metadata": {},
   "outputs": [],
   "source": [
    "# TODO \n",
    "# Info check"
   ]
  },
  {
   "cell_type": "code",
   "execution_count": null,
   "metadata": {},
   "outputs": [],
   "source": []
  }
 ],
 "metadata": {
  "kernelspec": {
   "display_name": "Python 3",
   "language": "python",
   "name": "python3"
  },
  "language_info": {
   "codemirror_mode": {
    "name": "ipython",
    "version": 3
   },
   "file_extension": ".py",
   "mimetype": "text/x-python",
   "name": "python",
   "nbconvert_exporter": "python",
   "pygments_lexer": "ipython3",
   "version": "3.11.0"
  },
  "orig_nbformat": 4,
  "vscode": {
   "interpreter": {
    "hash": "5d44c2d875907785e3dc6dfd435a968e8c16204cdebce69e1d889b8fb17b1327"
   }
  }
 },
 "nbformat": 4,
 "nbformat_minor": 2
}
